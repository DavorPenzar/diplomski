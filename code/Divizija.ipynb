{
 "cells": [
  {
   "cell_type": "markdown",
   "metadata": {},
   "source": [
    "# Divizija\n"
   ]
  },
  {
   "cell_type": "code",
   "execution_count": 1,
   "metadata": {},
   "outputs": [],
   "source": [
    "from IPython import *\n",
    "from IPython.display import *\n"
   ]
  },
  {
   "cell_type": "code",
   "execution_count": 2,
   "metadata": {},
   "outputs": [],
   "source": [
    "import copy\n",
    "import math\n",
    "import numbers\n",
    "import time\n"
   ]
  },
  {
   "cell_type": "code",
   "execution_count": 3,
   "metadata": {},
   "outputs": [],
   "source": [
    "import matplotlib as mpl\n",
    "import matplotlib.image as mpimg\n",
    "import matplotlib.pyplot as plt\n",
    "import numpy as np\n",
    "import pandas as pd\n",
    "import sympy as sym\n",
    "from mpl_toolkits.mplot3d import Axes3D\n"
   ]
  },
  {
   "cell_type": "code",
   "execution_count": 4,
   "metadata": {},
   "outputs": [],
   "source": [
    "import shapely as sh\n",
    "import shapely.geometry as gm\n"
   ]
  },
  {
   "cell_type": "code",
   "execution_count": 5,
   "metadata": {},
   "outputs": [],
   "source": [
    "%matplotlib inline\n"
   ]
  },
  {
   "cell_type": "code",
   "execution_count": 6,
   "metadata": {},
   "outputs": [],
   "source": [
    "sym.init_printing()\n"
   ]
  },
  {
   "cell_type": "code",
   "execution_count": 7,
   "metadata": {},
   "outputs": [],
   "source": [
    "tr = pd.read_csv(\n",
    "    'data/triangles/a.tsv',\n",
    "    sep = \"\\t\",\n",
    "    header = None,\n",
    "    index_col = None,\n",
    "    names = ['x0', 'y0', 'x1', 'y1', 'x2', 'y2']\n",
    ")\n"
   ]
  },
  {
   "cell_type": "code",
   "execution_count": 8,
   "metadata": {},
   "outputs": [
    {
     "name": "stdout",
     "output_type": "stream",
     "text": [
      "<class 'pandas.core.frame.DataFrame'>\n",
      "RangeIndex: 1129448 entries, 0 to 1129447\n",
      "Data columns (total 6 columns):\n",
      "x0    1129448 non-null float64\n",
      "y0    1129448 non-null float64\n",
      "x1    1129448 non-null float64\n",
      "y1    1129448 non-null float64\n",
      "x2    1129448 non-null float64\n",
      "y2    1129448 non-null float64\n",
      "dtypes: float64(6)\n",
      "memory usage: 51.7 MB\n"
     ]
    }
   ],
   "source": [
    "tr.info()\n"
   ]
  },
  {
   "cell_type": "code",
   "execution_count": 9,
   "metadata": {},
   "outputs": [],
   "source": [
    "ev = pd.read_csv(\n",
    "    'data/triangles/b.tsv',\n",
    "    sep = \"\\t\",\n",
    "    header = None,\n",
    "    index_col = None,\n",
    "    names = ['l0']\n",
    ")\n"
   ]
  },
  {
   "cell_type": "code",
   "execution_count": 10,
   "metadata": {},
   "outputs": [
    {
     "name": "stdout",
     "output_type": "stream",
     "text": [
      "<class 'pandas.core.frame.DataFrame'>\n",
      "RangeIndex: 1129448 entries, 0 to 1129447\n",
      "Data columns (total 1 columns):\n",
      "l0    1129448 non-null float64\n",
      "dtypes: float64(1)\n",
      "memory usage: 8.6 MB\n"
     ]
    }
   ],
   "source": [
    "ev.info()\n"
   ]
  },
  {
   "cell_type": "code",
   "execution_count": 11,
   "metadata": {},
   "outputs": [],
   "source": [
    "df = pd.read_csv(\n",
    "    'data/triangles/ab.tsv',\n",
    "    sep = \"\\t\",\n",
    "    header = None,\n",
    "    index_col = None,\n",
    "    names = ['x0', 'y0', 'x1', 'y1', 'x2', 'y2', 'l0']\n",
    ")\n"
   ]
  },
  {
   "cell_type": "code",
   "execution_count": 12,
   "metadata": {},
   "outputs": [
    {
     "name": "stdout",
     "output_type": "stream",
     "text": [
      "<class 'pandas.core.frame.DataFrame'>\n",
      "RangeIndex: 1129448 entries, 0 to 1129447\n",
      "Data columns (total 7 columns):\n",
      "x0    1129448 non-null float64\n",
      "y0    1129448 non-null float64\n",
      "x1    1129448 non-null float64\n",
      "y1    1129448 non-null float64\n",
      "x2    1129448 non-null float64\n",
      "y2    1129448 non-null float64\n",
      "l0    1129448 non-null float64\n",
      "dtypes: float64(7)\n",
      "memory usage: 60.3 MB\n"
     ]
    }
   ],
   "source": [
    "df.info()\n"
   ]
  },
  {
   "cell_type": "code",
   "execution_count": 13,
   "metadata": {},
   "outputs": [
    {
     "data": {
      "image/png": "[encoded data removed]",
      "text/latex": [
       "$$\\left ( 52.72481994, \\quad 5832.32601815\\right )$$"
      ],
      "text/plain": [
       "(52.72481994, 5832.32601815)"
      ]
     },
     "execution_count": 13,
     "metadata": {},
     "output_type": "execute_result"
    }
   ],
   "source": [
    "(df.l0.min(), df.l0.max())\n"
   ]
  },
  {
   "cell_type": "code",
   "execution_count": 14,
   "metadata": {},
   "outputs": [
    {
     "data": {
      "text/html": [
       "<div>\n",
       "<style scoped>\n",
       "    .dataframe tbody tr th:only-of-type {\n",
       "        vertical-align: middle;\n",
       "    }\n",
       "\n",
       "    .dataframe tbody tr th {\n",
       "        vertical-align: top;\n",
       "    }\n",
       "\n",
       "    .dataframe thead th {\n",
       "        text-align: right;\n",
       "    }\n",
       "</style>\n",
       "<table border=\"1\" class=\"dataframe\">\n",
       "  <thead>\n",
       "    <tr style=\"text-align: right;\">\n",
       "      <th></th>\n",
       "      <th>x0</th>\n",
       "      <th>y0</th>\n",
       "      <th>x1</th>\n",
       "      <th>y1</th>\n",
       "      <th>x2</th>\n",
       "      <th>y2</th>\n",
       "      <th>l0</th>\n",
       "    </tr>\n",
       "  </thead>\n",
       "  <tbody>\n",
       "    <tr>\n",
       "      <th>1630</th>\n",
       "      <td>0.5</td>\n",
       "      <td>0.0</td>\n",
       "      <td>0.0000</td>\n",
       "      <td>0.865026</td>\n",
       "      <td>-0.5</td>\n",
       "      <td>0.0</td>\n",
       "      <td>52.790165</td>\n",
       "    </tr>\n",
       "    <tr>\n",
       "      <th>1631</th>\n",
       "      <td>0.5</td>\n",
       "      <td>0.0</td>\n",
       "      <td>0.0000</td>\n",
       "      <td>0.865526</td>\n",
       "      <td>-0.5</td>\n",
       "      <td>0.0</td>\n",
       "      <td>52.779327</td>\n",
       "    </tr>\n",
       "    <tr>\n",
       "      <th>1632</th>\n",
       "      <td>0.5</td>\n",
       "      <td>0.0</td>\n",
       "      <td>0.0000</td>\n",
       "      <td>0.866025</td>\n",
       "      <td>-0.5</td>\n",
       "      <td>0.0</td>\n",
       "      <td>52.724820</td>\n",
       "    </tr>\n",
       "    <tr>\n",
       "      <th>3262</th>\n",
       "      <td>0.5</td>\n",
       "      <td>0.0</td>\n",
       "      <td>0.0005</td>\n",
       "      <td>0.864526</td>\n",
       "      <td>-0.5</td>\n",
       "      <td>0.0</td>\n",
       "      <td>52.816303</td>\n",
       "    </tr>\n",
       "    <tr>\n",
       "      <th>3263</th>\n",
       "      <td>0.5</td>\n",
       "      <td>0.0</td>\n",
       "      <td>0.0005</td>\n",
       "      <td>0.865026</td>\n",
       "      <td>-0.5</td>\n",
       "      <td>0.0</td>\n",
       "      <td>52.814851</td>\n",
       "    </tr>\n",
       "    <tr>\n",
       "      <th>3264</th>\n",
       "      <td>0.5</td>\n",
       "      <td>0.0</td>\n",
       "      <td>0.0005</td>\n",
       "      <td>0.865526</td>\n",
       "      <td>-0.5</td>\n",
       "      <td>0.0</td>\n",
       "      <td>52.772876</td>\n",
       "    </tr>\n",
       "    <tr>\n",
       "      <th>4895</th>\n",
       "      <td>0.5</td>\n",
       "      <td>0.0</td>\n",
       "      <td>0.0010</td>\n",
       "      <td>0.865026</td>\n",
       "      <td>-0.5</td>\n",
       "      <td>0.0</td>\n",
       "      <td>52.803360</td>\n",
       "    </tr>\n",
       "  </tbody>\n",
       "</table>\n",
       "</div>"
      ],
      "text/plain": [
       "       x0   y0      x1        y1   x2   y2         l0\n",
       "1630  0.5  0.0  0.0000  0.865026 -0.5  0.0  52.790165\n",
       "1631  0.5  0.0  0.0000  0.865526 -0.5  0.0  52.779327\n",
       "1632  0.5  0.0  0.0000  0.866025 -0.5  0.0  52.724820\n",
       "3262  0.5  0.0  0.0005  0.864526 -0.5  0.0  52.816303\n",
       "3263  0.5  0.0  0.0005  0.865026 -0.5  0.0  52.814851\n",
       "3264  0.5  0.0  0.0005  0.865526 -0.5  0.0  52.772876\n",
       "4895  0.5  0.0  0.0010  0.865026 -0.5  0.0  52.803360"
      ]
     },
     "execution_count": 14,
     "metadata": {},
     "output_type": "execute_result"
    }
   ],
   "source": [
    "df.loc[np.abs(df.l0 - df.l0.min()) < 0.1]\n"
   ]
  },
  {
   "cell_type": "code",
   "execution_count": 15,
   "metadata": {},
   "outputs": [
    {
     "data": {
      "text/html": [
       "<div>\n",
       "<style scoped>\n",
       "    .dataframe tbody tr th:only-of-type {\n",
       "        vertical-align: middle;\n",
       "    }\n",
       "\n",
       "    .dataframe tbody tr th {\n",
       "        vertical-align: top;\n",
       "    }\n",
       "\n",
       "    .dataframe thead th {\n",
       "        text-align: right;\n",
       "    }\n",
       "</style>\n",
       "<table border=\"1\" class=\"dataframe\">\n",
       "  <thead>\n",
       "    <tr style=\"text-align: right;\">\n",
       "      <th></th>\n",
       "      <th>x0</th>\n",
       "      <th>y0</th>\n",
       "      <th>x1</th>\n",
       "      <th>y1</th>\n",
       "      <th>x2</th>\n",
       "      <th>y2</th>\n",
       "      <th>l0</th>\n",
       "    </tr>\n",
       "  </thead>\n",
       "  <tbody>\n",
       "    <tr>\n",
       "      <th>1128351</th>\n",
       "      <td>0.5</td>\n",
       "      <td>0.0</td>\n",
       "      <td>0.4925</td>\n",
       "      <td>0.050472</td>\n",
       "      <td>-0.5</td>\n",
       "      <td>0.0</td>\n",
       "      <td>5737.629428</td>\n",
       "    </tr>\n",
       "    <tr>\n",
       "      <th>1128495</th>\n",
       "      <td>0.5</td>\n",
       "      <td>0.0</td>\n",
       "      <td>0.4930</td>\n",
       "      <td>0.050472</td>\n",
       "      <td>-0.5</td>\n",
       "      <td>0.0</td>\n",
       "      <td>5745.374716</td>\n",
       "    </tr>\n",
       "    <tr>\n",
       "      <th>1128631</th>\n",
       "      <td>0.5</td>\n",
       "      <td>0.0</td>\n",
       "      <td>0.4935</td>\n",
       "      <td>0.050472</td>\n",
       "      <td>-0.5</td>\n",
       "      <td>0.0</td>\n",
       "      <td>5753.146987</td>\n",
       "    </tr>\n",
       "    <tr>\n",
       "      <th>1128758</th>\n",
       "      <td>0.5</td>\n",
       "      <td>0.0</td>\n",
       "      <td>0.4940</td>\n",
       "      <td>0.050472</td>\n",
       "      <td>-0.5</td>\n",
       "      <td>0.0</td>\n",
       "      <td>5760.946108</td>\n",
       "    </tr>\n",
       "    <tr>\n",
       "      <th>1128876</th>\n",
       "      <td>0.5</td>\n",
       "      <td>0.0</td>\n",
       "      <td>0.4945</td>\n",
       "      <td>0.050472</td>\n",
       "      <td>-0.5</td>\n",
       "      <td>0.0</td>\n",
       "      <td>5768.771975</td>\n",
       "    </tr>\n",
       "    <tr>\n",
       "      <th>1128985</th>\n",
       "      <td>0.5</td>\n",
       "      <td>0.0</td>\n",
       "      <td>0.4950</td>\n",
       "      <td>0.050472</td>\n",
       "      <td>-0.5</td>\n",
       "      <td>0.0</td>\n",
       "      <td>5776.624487</td>\n",
       "    </tr>\n",
       "    <tr>\n",
       "      <th>1129084</th>\n",
       "      <td>0.5</td>\n",
       "      <td>0.0</td>\n",
       "      <td>0.4955</td>\n",
       "      <td>0.050472</td>\n",
       "      <td>-0.5</td>\n",
       "      <td>0.0</td>\n",
       "      <td>5784.503434</td>\n",
       "    </tr>\n",
       "    <tr>\n",
       "      <th>1129173</th>\n",
       "      <td>0.5</td>\n",
       "      <td>0.0</td>\n",
       "      <td>0.4960</td>\n",
       "      <td>0.050472</td>\n",
       "      <td>-0.5</td>\n",
       "      <td>0.0</td>\n",
       "      <td>5792.408733</td>\n",
       "    </tr>\n",
       "    <tr>\n",
       "      <th>1129251</th>\n",
       "      <td>0.5</td>\n",
       "      <td>0.0</td>\n",
       "      <td>0.4965</td>\n",
       "      <td>0.050472</td>\n",
       "      <td>-0.5</td>\n",
       "      <td>0.0</td>\n",
       "      <td>5800.340259</td>\n",
       "    </tr>\n",
       "    <tr>\n",
       "      <th>1129318</th>\n",
       "      <td>0.5</td>\n",
       "      <td>0.0</td>\n",
       "      <td>0.4970</td>\n",
       "      <td>0.050472</td>\n",
       "      <td>-0.5</td>\n",
       "      <td>0.0</td>\n",
       "      <td>5808.297880</td>\n",
       "    </tr>\n",
       "    <tr>\n",
       "      <th>1129372</th>\n",
       "      <td>0.5</td>\n",
       "      <td>0.0</td>\n",
       "      <td>0.4975</td>\n",
       "      <td>0.050472</td>\n",
       "      <td>-0.5</td>\n",
       "      <td>0.0</td>\n",
       "      <td>5816.281466</td>\n",
       "    </tr>\n",
       "    <tr>\n",
       "      <th>1129413</th>\n",
       "      <td>0.5</td>\n",
       "      <td>0.0</td>\n",
       "      <td>0.4980</td>\n",
       "      <td>0.050472</td>\n",
       "      <td>-0.5</td>\n",
       "      <td>0.0</td>\n",
       "      <td>5824.290901</td>\n",
       "    </tr>\n",
       "    <tr>\n",
       "      <th>1129439</th>\n",
       "      <td>0.5</td>\n",
       "      <td>0.0</td>\n",
       "      <td>0.4985</td>\n",
       "      <td>0.050472</td>\n",
       "      <td>-0.5</td>\n",
       "      <td>0.0</td>\n",
       "      <td>5832.326018</td>\n",
       "    </tr>\n",
       "  </tbody>\n",
       "</table>\n",
       "</div>"
      ],
      "text/plain": [
       "          x0   y0      x1        y1   x2   y2           l0\n",
       "1128351  0.5  0.0  0.4925  0.050472 -0.5  0.0  5737.629428\n",
       "1128495  0.5  0.0  0.4930  0.050472 -0.5  0.0  5745.374716\n",
       "1128631  0.5  0.0  0.4935  0.050472 -0.5  0.0  5753.146987\n",
       "1128758  0.5  0.0  0.4940  0.050472 -0.5  0.0  5760.946108\n",
       "1128876  0.5  0.0  0.4945  0.050472 -0.5  0.0  5768.771975\n",
       "1128985  0.5  0.0  0.4950  0.050472 -0.5  0.0  5776.624487\n",
       "1129084  0.5  0.0  0.4955  0.050472 -0.5  0.0  5784.503434\n",
       "1129173  0.5  0.0  0.4960  0.050472 -0.5  0.0  5792.408733\n",
       "1129251  0.5  0.0  0.4965  0.050472 -0.5  0.0  5800.340259\n",
       "1129318  0.5  0.0  0.4970  0.050472 -0.5  0.0  5808.297880\n",
       "1129372  0.5  0.0  0.4975  0.050472 -0.5  0.0  5816.281466\n",
       "1129413  0.5  0.0  0.4980  0.050472 -0.5  0.0  5824.290901\n",
       "1129439  0.5  0.0  0.4985  0.050472 -0.5  0.0  5832.326018"
      ]
     },
     "execution_count": 15,
     "metadata": {},
     "output_type": "execute_result"
    }
   ],
   "source": [
    "df.loc[np.abs(df.l0 - df.l0.max()) < 100.0]\n"
   ]
  },
  {
   "cell_type": "code",
   "execution_count": 16,
   "metadata": {},
   "outputs": [],
   "source": [
    "m = int(df.x1.unique().size)\n",
    "n = int(df.y1.unique().size)\n"
   ]
  },
  {
   "cell_type": "code",
   "execution_count": 17,
   "metadata": {},
   "outputs": [
    {
     "data": {
      "image/png": "[encoded data removed]",
      "text/latex": [
       "$$\\left ( 998, \\quad 1633\\right )$$"
      ],
      "text/plain": [
       "(998, 1633)"
      ]
     },
     "execution_count": 17,
     "metadata": {},
     "output_type": "execute_result"
    }
   ],
   "source": [
    "(m, n)\n"
   ]
  },
  {
   "cell_type": "code",
   "execution_count": 18,
   "metadata": {},
   "outputs": [],
   "source": [
    "x = np.load('data/triangles/x.npy')\n",
    "y = np.load('data/triangles/y.npy')\n",
    "\n",
    "X = np.load('data/triangles/X.npy')\n",
    "Y = np.load('data/triangles/Y.npy')\n",
    "\n",
    "l = np.load('data/triangles/l.npy')\n"
   ]
  },
  {
   "cell_type": "code",
   "execution_count": 19,
   "metadata": {},
   "outputs": [
    {
     "data": {
      "text/plain": [
       "1129448"
      ]
     },
     "execution_count": 19,
     "metadata": {},
     "output_type": "execute_result"
    }
   ],
   "source": [
    "(~np.isnan(l.ravel())).sum()\n"
   ]
  },
  {
   "cell_type": "code",
   "execution_count": 20,
   "metadata": {},
   "outputs": [],
   "source": [
    "l_rav = l.ravel().copy(order = 'F')\n",
    "l_rav = l_rav[~np.isnan(l_rav)].copy(order = 'F')\n",
    "\n",
    "lev = np.concatenate(\n",
    "    (\n",
    "        [l_rav.min()],\n",
    "        [np.quantile(l_rav, float(i) / 100.0) for i in range(5, 96, 5)],\n",
    "        [l_rav.max()]\n",
    "    ))\n",
    "try:\n",
    "    del i\n",
    "except (NameError, UnboundLocalError):\n",
    "    pass\n",
    "lev = np.array(\n",
    "    lev,\n",
    "    dtype = float,\n",
    "    copy = True,\n",
    "    order = 'F',\n",
    "    subok = False,\n",
    "    ndmin = 1\n",
    ")\n",
    "\n",
    "log10_lev = np.array(\n",
    "    np.log10(lev),\n",
    "    dtype = float,\n",
    "    copy = True,\n",
    "    order = 'F',\n",
    "    subok = False,\n",
    "    ndmin = 1\n",
    ")\n",
    "\n",
    "lev[0] -= 0.1\n",
    "lev[-1] += 0.1\n",
    "log10_lev[0] -= 0.1\n",
    "log10_lev[-1] += 0.1\n",
    "\n",
    "del l_rav\n"
   ]
  },
  {
   "cell_type": "code",
   "execution_count": 21,
   "metadata": {},
   "outputs": [
    {
     "data": {
      "image/png": "[encoded data removed]",
      "text/latex": [
       "$$21$$"
      ],
      "text/plain": [
       "21"
      ]
     },
     "execution_count": 21,
     "metadata": {},
     "output_type": "execute_result"
    }
   ],
   "source": [
    "lev.size\n"
   ]
  },
  {
   "cell_type": "code",
   "execution_count": 22,
   "metadata": {},
   "outputs": [
    {
     "data": {
      "text/plain": [
       "array([  52.62481994,   63.6716518 ,   70.92453293,   78.31006079,\n",
       "         86.35365593,   95.38624729,  105.79815561,  117.96375   ,\n",
       "        132.35281431,  150.22287395,  172.05213708,  199.86004436,\n",
       "        235.02692794,  281.30336263,  350.25387583,  443.74728898,\n",
       "        583.9851278 ,  814.7964604 , 1242.60457175, 2190.44859428,\n",
       "       5832.42601815])"
      ]
     },
     "execution_count": 22,
     "metadata": {},
     "output_type": "execute_result"
    }
   ],
   "source": [
    "lev\n"
   ]
  },
  {
   "cell_type": "code",
   "execution_count": 23,
   "metadata": {},
   "outputs": [
    {
     "data": {
      "text/plain": [
       "(array([0.27483237, 1.06721992, 1.16223338, 1.17748271, 1.15726435,\n",
       "        1.11131224, 1.05773525, 1.0003008 , 0.90905287, 0.84854459,\n",
       "        0.76844614, 0.71031912, 0.64055054, 0.52516209, 0.48661009,\n",
       "        0.41922773, 0.34566584, 0.27280386, 0.20308539, 0.09518313]),\n",
       " array([1.62201511, 1.80394612, 1.85079648, 1.89381756, 1.93628073,\n",
       "        1.97948576, 2.0244781 , 2.07174857, 2.12173318, 2.17673607,\n",
       "        2.23566007, 2.30072598, 2.37111762, 2.44917492, 2.54438295,\n",
       "        2.64713571, 2.76640179, 2.91104913, 3.09433295, 3.34053307,\n",
       "        3.86584179]),\n",
       " <a list of 20 Patch objects>)"
      ]
     },
     "execution_count": 23,
     "metadata": {},
     "output_type": "execute_result"
    },
    {
     "data": {
      "image/png": "[encoded data removed]",
      "text/plain": [
       "<matplotlib.figure.Figure at 0x7f9f63ec54e0>"
      ]
     },
     "metadata": {},
     "output_type": "display_data"
    }
   ],
   "source": [
    "plt.hist(np.log10(l.ravel()), bins = log10_lev, density = True)\n"
   ]
  },
  {
   "cell_type": "code",
   "execution_count": 24,
   "metadata": {},
   "outputs": [],
   "source": [
    "I = np.isnan(l)\n",
    "\n",
    "#l[I] = 1.0e-16\n",
    "\n",
    "X = np.ma.MaskedArray(X, mask = I)\n",
    "Y = np.ma.MaskedArray(Y, mask = I)\n",
    "l = np.ma.MaskedArray(l, mask = I)\n",
    "\n",
    "del I\n"
   ]
  },
  {
   "cell_type": "code",
   "execution_count": 25,
   "metadata": {},
   "outputs": [
    {
     "data": {
      "text/plain": [
       "('5.262481994e+01', '5.83242601815e+03')"
      ]
     },
     "execution_count": 25,
     "metadata": {},
     "output_type": "execute_result"
    }
   ],
   "source": [
    "(np.format_float_scientific(lev[0]), np.format_float_scientific(lev[-1]))\n"
   ]
  },
  {
   "cell_type": "code",
   "execution_count": 26,
   "metadata": {},
   "outputs": [
    {
     "data": {
      "image/png": "[encoded data removed]",
      "text/plain": [
       "<matplotlib.figure.Figure at 0x7f9f63de2668>"
      ]
     },
     "metadata": {},
     "output_type": "display_data"
    }
   ],
   "source": [
    "fig = plt.figure(num = 'Eigenvalues', figsize = (7.5, 4.171875))\n",
    "\n",
    "ax0 = fig.add_subplot(121, projection = '3d')\n",
    "ax1 = fig.add_subplot(122)\n",
    "\n",
    "ax0.plot_surface(X, Y, np.log10(l.data), color = 'seagreen')\n",
    "cs = ax1.contourf(X, Y, np.log10(l), levels = log10_lev, cmap = plt.cm.plasma)\n",
    "\n",
    "ax0.set_xlim((0.0, 0.5))\n",
    "ax0.set_ylim(\n",
    "    (\n",
    "        0.0,\n",
    "        0.8660254037844386467637231707529361834714026269051903140279034897\n",
    "    )\n",
    ")\n",
    "ax0.set_zlim((float(np.log10(lev[0])), float(np.log10(lev[-1]))))\n",
    "\n",
    "ax1.set_xlim((0.0, 0.5))\n",
    "ax1.set_ylim(\n",
    "    (\n",
    "        0.0,\n",
    "        0.8660254037844386467637231707529361834714026269051903140279034897\n",
    "    )\n",
    ")\n",
    "\n",
    "ax0.view_init(20.0, 40.0)\n",
    "\n",
    "ax1.set_aspect('equal')\n",
    "\n",
    "ax0.set_xlabel(\"$ x $\")\n",
    "ax0.set_ylabel(\"$ y $\")\n",
    "ax0.set_zlabel(\"$ \\lambda_{1} $\")\n",
    "\n",
    "ax0.set_zticks([2.0, 2.5, 3.0, 3.5])\n",
    "ax0.set_zticklabels(\n",
    "    [\n",
    "        \"$ 1.00 \\cdot 10^{2} $\",\n",
    "        \"$ 3.16 \\cdot 10^{2} $\",\n",
    "        \"$ 1.00 \\cdot 10^{3} $\",\n",
    "        \"$ 3.16 \\cdot 10^{3} $\"\n",
    "    ]\n",
    ")\n",
    "\n",
    "ax1.set_xlabel(\"$ x $\")\n",
    "ax1.set_ylabel(\"$ y $\")\n",
    "\n",
    "cbar = fig.colorbar(\n",
    "    cs,\n",
    "    ax = ax1,\n",
    "    ticks = [2.0, 2.5, 3.0, 3.5],\n",
    "    spacing = 'proportional'\n",
    ")\n",
    "\n",
    "cbar.set_label(\"$ \\lambda_{1} $\")\n",
    "\n",
    "cbar.ax.set_yticklabels(\n",
    "    [\n",
    "        \"$ 1.00 \\cdot 10^{2} $\",\n",
    "        \"$ 3.16 \\cdot 10^{2} $\",\n",
    "        \"$ 1.00 \\cdot 10^{3} $\",\n",
    "        \"$ 3.16 \\cdot 10^{3} $\"\n",
    "    ]\n",
    ")\n",
    "\n",
    "plt.show()\n"
   ]
  },
  {
   "cell_type": "code",
   "execution_count": null,
   "metadata": {},
   "outputs": [],
   "source": []
  }
 ],
 "metadata": {
  "kernelspec": {
   "display_name": "Python 3",
   "language": "python",
   "name": "python3"
  },
  "language_info": {
   "codemirror_mode": {
    "name": "ipython",
    "version": 3
   },
   "file_extension": ".py",
   "mimetype": "text/x-python",
   "name": "python",
   "nbconvert_exporter": "python",
   "pygments_lexer": "ipython3",
   "version": "3.6.9"
  }
 },
 "nbformat": 4,
 "nbformat_minor": 2
}
