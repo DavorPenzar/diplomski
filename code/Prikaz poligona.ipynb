{
 "cells": [
  {
   "cell_type": "markdown",
   "metadata": {},
   "source": [
    "# Prikaz poligona\n"
   ]
  },
  {
   "cell_type": "code",
   "execution_count": 1,
   "metadata": {},
   "outputs": [],
   "source": [
    "from IPython import *\n",
    "from IPython.display import *\n"
   ]
  },
  {
   "cell_type": "code",
   "execution_count": 2,
   "metadata": {},
   "outputs": [],
   "source": [
    "import copy\n",
    "import math\n",
    "import numbers\n",
    "import textwrap\n"
   ]
  },
  {
   "cell_type": "code",
   "execution_count": 3,
   "metadata": {},
   "outputs": [],
   "source": [
    "import matplotlib as mpl\n",
    "import matplotlib.pyplot as plt\n",
    "import numpy as np\n",
    "import pandas as pd\n",
    "import sympy as sym\n",
    "from mpl_toolkits.mplot3d import Axes3D\n"
   ]
  },
  {
   "cell_type": "code",
   "execution_count": 4,
   "metadata": {},
   "outputs": [],
   "source": [
    "import shapely as sh\n",
    "import shapely.geometry as gm\n"
   ]
  },
  {
   "cell_type": "code",
   "execution_count": 5,
   "metadata": {},
   "outputs": [],
   "source": [
    "%matplotlib inline\n"
   ]
  },
  {
   "cell_type": "code",
   "execution_count": 6,
   "metadata": {},
   "outputs": [],
   "source": [
    "sym.init_printing()\n"
   ]
  },
  {
   "cell_type": "code",
   "execution_count": 7,
   "metadata": {},
   "outputs": [],
   "source": [
    "ox = pd.read_csv(\n",
    "    'data/oct.tsv',\n",
    "    sep = \"\\t\",\n",
    "    header = None,\n",
    "    index_col = None,\n",
    "    names = [\n",
    "        '{coor:s}{ind:d}'.format(\n",
    "            coor = 'y' if i % 2 else 'x',\n",
    "            ind = (i >> 1) + 1\n",
    "        ) for i in range(2 * 8)\n",
    "    ]\n",
    ")\n"
   ]
  },
  {
   "cell_type": "code",
   "execution_count": 8,
   "metadata": {},
   "outputs": [
    {
     "name": "stdout",
     "output_type": "stream",
     "text": [
      "<class 'pandas.core.frame.DataFrame'>\n",
      "RangeIndex: 360 entries, 0 to 359\n",
      "Data columns (total 16 columns):\n",
      "x1    360 non-null float64\n",
      "y1    360 non-null float64\n",
      "x2    360 non-null float64\n",
      "y2    360 non-null float64\n",
      "x3    360 non-null float64\n",
      "y3    360 non-null float64\n",
      "x4    360 non-null float64\n",
      "y4    360 non-null float64\n",
      "x5    360 non-null float64\n",
      "y5    360 non-null float64\n",
      "x6    360 non-null float64\n",
      "y6    360 non-null float64\n",
      "x7    360 non-null float64\n",
      "y7    360 non-null float64\n",
      "x8    360 non-null float64\n",
      "y8    360 non-null float64\n",
      "dtypes: float64(16)\n",
      "memory usage: 45.1 KB\n"
     ]
    }
   ],
   "source": [
    "ox.info()\n"
   ]
  },
  {
   "cell_type": "code",
   "execution_count": 9,
   "metadata": {},
   "outputs": [
    {
     "data": {
      "text/html": [
       "<div>\n",
       "<style scoped>\n",
       "    .dataframe tbody tr th:only-of-type {\n",
       "        vertical-align: middle;\n",
       "    }\n",
       "\n",
       "    .dataframe tbody tr th {\n",
       "        vertical-align: top;\n",
       "    }\n",
       "\n",
       "    .dataframe thead th {\n",
       "        text-align: right;\n",
       "    }\n",
       "</style>\n",
       "<table border=\"1\" class=\"dataframe\">\n",
       "  <thead>\n",
       "    <tr style=\"text-align: right;\">\n",
       "      <th></th>\n",
       "      <th>x1</th>\n",
       "      <th>y1</th>\n",
       "      <th>x2</th>\n",
       "      <th>y2</th>\n",
       "      <th>x3</th>\n",
       "      <th>y3</th>\n",
       "      <th>x4</th>\n",
       "      <th>y4</th>\n",
       "      <th>x5</th>\n",
       "      <th>y5</th>\n",
       "      <th>x6</th>\n",
       "      <th>y6</th>\n",
       "      <th>x7</th>\n",
       "      <th>y7</th>\n",
       "      <th>x8</th>\n",
       "      <th>y8</th>\n",
       "    </tr>\n",
       "  </thead>\n",
       "  <tbody>\n",
       "    <tr>\n",
       "      <th>0</th>\n",
       "      <td>0.278305</td>\n",
       "      <td>-0.417096</td>\n",
       "      <td>-0.023831</td>\n",
       "      <td>0.392384</td>\n",
       "      <td>0.366053</td>\n",
       "      <td>0.417096</td>\n",
       "      <td>0.023908</td>\n",
       "      <td>0.408666</td>\n",
       "      <td>-0.366053</td>\n",
       "      <td>0.347628</td>\n",
       "      <td>-0.142939</td>\n",
       "      <td>-0.080478</td>\n",
       "      <td>0.136775</td>\n",
       "      <td>-0.153312</td>\n",
       "      <td>-0.007380</td>\n",
       "      <td>-0.175735</td>\n",
       "    </tr>\n",
       "    <tr>\n",
       "      <th>1</th>\n",
       "      <td>-0.414478</td>\n",
       "      <td>-0.313464</td>\n",
       "      <td>0.240893</td>\n",
       "      <td>-0.311384</td>\n",
       "      <td>-0.158975</td>\n",
       "      <td>-0.307222</td>\n",
       "      <td>0.268369</td>\n",
       "      <td>-0.288205</td>\n",
       "      <td>0.301900</td>\n",
       "      <td>-0.179332</td>\n",
       "      <td>0.414478</td>\n",
       "      <td>0.245851</td>\n",
       "      <td>0.073917</td>\n",
       "      <td>0.313464</td>\n",
       "      <td>-0.016092</td>\n",
       "      <td>-0.239393</td>\n",
       "    </tr>\n",
       "    <tr>\n",
       "      <th>2</th>\n",
       "      <td>0.226891</td>\n",
       "      <td>-0.455999</td>\n",
       "      <td>0.236787</td>\n",
       "      <td>0.006273</td>\n",
       "      <td>0.256480</td>\n",
       "      <td>-0.242030</td>\n",
       "      <td>0.247441</td>\n",
       "      <td>0.025859</td>\n",
       "      <td>0.283168</td>\n",
       "      <td>0.172571</td>\n",
       "      <td>0.052329</td>\n",
       "      <td>0.302268</td>\n",
       "      <td>-0.183305</td>\n",
       "      <td>0.455999</td>\n",
       "      <td>-0.283168</td>\n",
       "      <td>-0.195690</td>\n",
       "    </tr>\n",
       "    <tr>\n",
       "      <th>3</th>\n",
       "      <td>0.049137</td>\n",
       "      <td>-0.229927</td>\n",
       "      <td>0.085738</td>\n",
       "      <td>-0.096527</td>\n",
       "      <td>0.492296</td>\n",
       "      <td>-0.098080</td>\n",
       "      <td>0.397636</td>\n",
       "      <td>-0.031356</td>\n",
       "      <td>-0.093993</td>\n",
       "      <td>0.229927</td>\n",
       "      <td>0.259710</td>\n",
       "      <td>0.034310</td>\n",
       "      <td>-0.162775</td>\n",
       "      <td>0.084607</td>\n",
       "      <td>-0.492296</td>\n",
       "      <td>0.076782</td>\n",
       "    </tr>\n",
       "    <tr>\n",
       "      <th>4</th>\n",
       "      <td>0.395243</td>\n",
       "      <td>-0.332207</td>\n",
       "      <td>0.220991</td>\n",
       "      <td>-0.137303</td>\n",
       "      <td>0.256903</td>\n",
       "      <td>-0.227516</td>\n",
       "      <td>0.237039</td>\n",
       "      <td>-0.263754</td>\n",
       "      <td>-0.306712</td>\n",
       "      <td>0.332207</td>\n",
       "      <td>-0.395243</td>\n",
       "      <td>0.280274</td>\n",
       "      <td>-0.053763</td>\n",
       "      <td>-0.187446</td>\n",
       "      <td>-0.060554</td>\n",
       "      <td>-0.141717</td>\n",
       "    </tr>\n",
       "  </tbody>\n",
       "</table>\n",
       "</div>"
      ],
      "text/plain": [
       "         x1        y1        x2        y2        x3        y3        x4  \\\n",
       "0  0.278305 -0.417096 -0.023831  0.392384  0.366053  0.417096  0.023908   \n",
       "1 -0.414478 -0.313464  0.240893 -0.311384 -0.158975 -0.307222  0.268369   \n",
       "2  0.226891 -0.455999  0.236787  0.006273  0.256480 -0.242030  0.247441   \n",
       "3  0.049137 -0.229927  0.085738 -0.096527  0.492296 -0.098080  0.397636   \n",
       "4  0.395243 -0.332207  0.220991 -0.137303  0.256903 -0.227516  0.237039   \n",
       "\n",
       "         y4        x5        y5        x6        y6        x7        y7  \\\n",
       "0  0.408666 -0.366053  0.347628 -0.142939 -0.080478  0.136775 -0.153312   \n",
       "1 -0.288205  0.301900 -0.179332  0.414478  0.245851  0.073917  0.313464   \n",
       "2  0.025859  0.283168  0.172571  0.052329  0.302268 -0.183305  0.455999   \n",
       "3 -0.031356 -0.093993  0.229927  0.259710  0.034310 -0.162775  0.084607   \n",
       "4 -0.263754 -0.306712  0.332207 -0.395243  0.280274 -0.053763 -0.187446   \n",
       "\n",
       "         x8        y8  \n",
       "0 -0.007380 -0.175735  \n",
       "1 -0.016092 -0.239393  \n",
       "2 -0.283168 -0.195690  \n",
       "3 -0.492296  0.076782  \n",
       "4 -0.060554 -0.141717  "
      ]
     },
     "execution_count": 9,
     "metadata": {},
     "output_type": "execute_result"
    }
   ],
   "source": [
    "ox.head()\n"
   ]
  },
  {
   "cell_type": "code",
   "execution_count": 10,
   "metadata": {},
   "outputs": [],
   "source": [
    "def extract_octogon (i, df = ox):\n",
    "    return gm.Polygon(\n",
    "        [\n",
    "            (\n",
    "                df.loc[i, 'x{ind:d}'.format(ind = j + 1)],\n",
    "                df.loc[i, 'y{ind:d}'.format(ind = j + 1)]\n",
    "            ) for j in range(8)\n",
    "        ]\n",
    "    )\n"
   ]
  },
  {
   "cell_type": "code",
   "execution_count": 11,
   "metadata": {},
   "outputs": [],
   "source": [
    "P = extract_octogon(0)\n"
   ]
  },
  {
   "cell_type": "code",
   "execution_count": 12,
   "metadata": {},
   "outputs": [
    {
     "data": {
      "image/svg+xml": [
       "<svg xmlns=\"http://www.w3.org/2000/svg\" xmlns:xlink=\"http://www.w3.org/1999/xlink\" width=\"100.0\" height=\"100.0\" viewBox=\"-0.39942109119999997 -0.4504638312 0.7988421823999999 0.9009276624\" preserveAspectRatio=\"xMinYMin meet\"><g transform=\"matrix(1,0,0,-1,0,0.0)\"><path fill-rule=\"evenodd\" fill=\"#66cc99\" stroke=\"#555555\" stroke-width=\"0.018018553248\" opacity=\"0.6\" d=\"M 0.27830481,-0.41709614 L -0.02383122,0.39238423 L 0.3660534,0.41709614 L 0.02390797,0.40866563 L -0.3660534,0.34762766 L -0.14293901,-0.08047789 L 0.13677455,-0.15331233 L -0.00738046,-0.17573481 L 0.27830481,-0.41709614 z\" /></g></svg>"
      ],
      "text/plain": [
       "<shapely.geometry.polygon.Polygon at 0x7feaef709a90>"
      ]
     },
     "execution_count": 12,
     "metadata": {},
     "output_type": "execute_result"
    }
   ],
   "source": [
    "P\n"
   ]
  },
  {
   "cell_type": "code",
   "execution_count": 13,
   "metadata": {},
   "outputs": [
    {
     "data": {
      "image/png": "[encoded data removed]",
      "text/latex": [
       "$$\\left ( -0.3660534, \\quad -0.41709614, \\quad 0.3660534, \\quad 0.41709614\\right )$$"
      ],
      "text/plain": [
       "(-0.3660534, -0.41709614, 0.3660534, 0.41709614)"
      ]
     },
     "execution_count": 13,
     "metadata": {},
     "output_type": "execute_result"
    }
   ],
   "source": [
    "P.bounds\n"
   ]
  },
  {
   "cell_type": "code",
   "execution_count": null,
   "metadata": {},
   "outputs": [],
   "source": []
  }
 ],
 "metadata": {
  "kernelspec": {
   "display_name": "Python 3",
   "language": "python",
   "name": "python3"
  },
  "language_info": {
   "codemirror_mode": {
    "name": "ipython",
    "version": 3
   },
   "file_extension": ".py",
   "mimetype": "text/x-python",
   "name": "python",
   "nbconvert_exporter": "python",
   "pygments_lexer": "ipython3",
   "version": "3.6.9"
  }
 },
 "nbformat": 4,
 "nbformat_minor": 2
}
