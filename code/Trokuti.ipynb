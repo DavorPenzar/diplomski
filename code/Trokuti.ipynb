{
 "cells": [
  {
   "cell_type": "code",
   "execution_count": 1,
   "metadata": {},
   "outputs": [],
   "source": [
    "import copy\n",
    "import math\n",
    "import numbers\n",
    "import six\n",
    "\n",
    "import matplotlib as mpl\n",
    "import matplotlib.pyplot as plt\n",
    "import numpy as np\n",
    "import scipy.sparse as sp\n",
    "import sympy as sym\n",
    "from mpl_toolkits.mplot3d import Axes3D\n"
   ]
  },
  {
   "cell_type": "code",
   "execution_count": 2,
   "metadata": {},
   "outputs": [],
   "source": [
    "%matplotlib inline\n"
   ]
  },
  {
   "cell_type": "code",
   "execution_count": 3,
   "metadata": {},
   "outputs": [],
   "source": [
    "sym.init_printing()\n"
   ]
  },
  {
   "cell_type": "code",
   "execution_count": 4,
   "metadata": {},
   "outputs": [],
   "source": [
    "from script import *\n"
   ]
  },
  {
   "cell_type": "code",
   "execution_count": 5,
   "metadata": {},
   "outputs": [],
   "source": [
    "def rot_2d (a):\n",
    "    a = sym.sympify(a)\n",
    "\n",
    "    return sym.Matrix(\n",
    "        np.array(\n",
    "            [[sym.cos(a), -sym.sin(a)], [sym.sin(a), sym.cos(a)]],\n",
    "            copy = True,\n",
    "            order = 'F'\n",
    "        )\n",
    "    )\n"
   ]
  },
  {
   "cell_type": "code",
   "execution_count": 6,
   "metadata": {},
   "outputs": [],
   "source": [
    "A = sym.Matrix(\n",
    "    np.array(\n",
    "        [\n",
    "            [\n",
    "                sym.Number(-1) / sym.Number(2),\n",
    "                sym.Number(1) / sym.Number(2),\n",
    "                sym.Number(0)\n",
    "            ],\n",
    "            [\n",
    "                -sym.sqrt(sym.Number(3)) / sym.Number(6),\n",
    "                -sym.sqrt(sym.Number(3)) / sym.Number(6),\n",
    "                sym.sqrt(sym.Number(3)) / sym.Number(3)\n",
    "            ]\n",
    "        ],\n",
    "        copy = True,\n",
    "        order = 'F'\n",
    "    )\n",
    ")\n"
   ]
  },
  {
   "cell_type": "code",
   "execution_count": 7,
   "metadata": {},
   "outputs": [],
   "source": [
    "B = rot_2d(sym.pi / 8) * A\n"
   ]
  },
  {
   "cell_type": "code",
   "execution_count": 8,
   "metadata": {},
   "outputs": [
    {
     "data": {
      "image/png": "[encoded data removed]",
      "text/latex": [
       "$$\\left[\\begin{matrix}- \\frac{\\sqrt{\\frac{\\sqrt{2}}{4} + \\frac{1}{2}}}{2} + \\frac{\\sqrt{3} \\sqrt{- \\frac{\\sqrt{2}}{4} + \\frac{1}{2}}}{6} & \\frac{\\sqrt{3} \\sqrt{- \\frac{\\sqrt{2}}{4} + \\frac{1}{2}}}{6} + \\frac{\\sqrt{\\frac{\\sqrt{2}}{4} + \\frac{1}{2}}}{2} & - \\frac{\\sqrt{3} \\sqrt{- \\frac{\\sqrt{2}}{4} + \\frac{1}{2}}}{3}\\\\- \\frac{\\sqrt{3} \\sqrt{\\frac{\\sqrt{2}}{4} + \\frac{1}{2}}}{6} - \\frac{\\sqrt{- \\frac{\\sqrt{2}}{4} + \\frac{1}{2}}}{2} & - \\frac{\\sqrt{3} \\sqrt{\\frac{\\sqrt{2}}{4} + \\frac{1}{2}}}{6} + \\frac{\\sqrt{- \\frac{\\sqrt{2}}{4} + \\frac{1}{2}}}{2} & \\frac{\\sqrt{3} \\sqrt{\\frac{\\sqrt{2}}{4} + \\frac{1}{2}}}{3}\\end{matrix}\\right]$$"
      ],
      "text/plain": [
       "⎡      ________          __________          __________       ________        \n",
       "⎢     ╱ √2   1          ╱   √2   1          ╱   √2   1       ╱ √2   1         \n",
       "⎢    ╱  ── + ─    √3⋅  ╱  - ── + ─    √3⋅  ╱  - ── + ─      ╱  ── + ─    -√3⋅ \n",
       "⎢  ╲╱   4    2       ╲╱     4    2       ╲╱     4    2    ╲╱   4    2        ╲\n",
       "⎢- ──────────── + ─────────────────   ───────────────── + ────────────   ─────\n",
       "⎢       2                 6                   6                2              \n",
       "⎢                                                                             \n",
       "⎢         ________       __________           ________       __________       \n",
       "⎢        ╱ √2   1       ╱   √2   1           ╱ √2   1       ╱   √2   1        \n",
       "⎢  √3⋅  ╱  ── + ─      ╱  - ── + ─     √3⋅  ╱  ── + ─      ╱  - ── + ─     √3⋅\n",
       "⎢     ╲╱   4    2    ╲╱     4    2        ╲╱   4    2    ╲╱     4    2        \n",
       "⎢- ─────────────── - ──────────────  - ─────────────── + ──────────────    ───\n",
       "⎣         6                2                  6                2              \n",
       "\n",
       "   __________ ⎤\n",
       "  ╱   √2   1  ⎥\n",
       " ╱  - ── + ─  ⎥\n",
       "╱     4    2  ⎥\n",
       "──────────────⎥\n",
       "    3         ⎥\n",
       "              ⎥\n",
       "    ________  ⎥\n",
       "   ╱ √2   1   ⎥\n",
       "  ╱  ── + ─   ⎥\n",
       "╲╱   4    2   ⎥\n",
       "────────────  ⎥\n",
       "    3         ⎦"
      ]
     },
     "execution_count": 8,
     "metadata": {},
     "output_type": "execute_result"
    }
   ],
   "source": [
    "B\n"
   ]
  },
  {
   "cell_type": "code",
   "execution_count": 9,
   "metadata": {},
   "outputs": [],
   "source": [
    "np.save(\n",
    "    'triangle.npy',\n",
    "    np.array(B, copy = True, dtype = float, order = 'F')\n",
    ")\n"
   ]
  },
  {
   "cell_type": "code",
   "execution_count": 10,
   "metadata": {},
   "outputs": [],
   "source": [
    "X = np.load('triangle.npy')\n"
   ]
  },
  {
   "cell_type": "code",
   "execution_count": 11,
   "metadata": {},
   "outputs": [],
   "source": [
    "O = triang(X[0], X[1])\n"
   ]
  },
  {
   "cell_type": "code",
   "execution_count": 12,
   "metadata": {},
   "outputs": [
    {
     "data": {
      "image/png": "[encoded data removed]",
      "text/plain": [
       "<Figure size 432x288 with 1 Axes>"
      ]
     },
     "metadata": {
      "needs_background": "light"
     },
     "output_type": "display_data"
    }
   ],
   "source": [
    "fig, ax = plt.subplots(nrows = 1, ncols = 1)\n",
    "\n",
    "ax.set_aspect('equal')\n",
    "\n",
    "show_2d_func(O, ax = ax, how = 'contourf')\n",
    "\n",
    "plt.show()\n"
   ]
  },
  {
   "cell_type": "code",
   "execution_count": null,
   "metadata": {},
   "outputs": [],
   "source": []
  }
 ],
 "metadata": {
  "kernelspec": {
   "display_name": "Python 3",
   "language": "python",
   "name": "python3"
  },
  "language_info": {
   "codemirror_mode": {
    "name": "ipython",
    "version": 3
   },
   "file_extension": ".py",
   "mimetype": "text/x-python",
   "name": "python",
   "nbconvert_exporter": "python",
   "pygments_lexer": "ipython3",
   "version": "3.7.3"
  }
 },
 "nbformat": 4,
 "nbformat_minor": 2
}
